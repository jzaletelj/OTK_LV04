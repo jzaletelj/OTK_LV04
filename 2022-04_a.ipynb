{
 "cells": [
  {
   "cell_type": "markdown",
   "metadata": {},
   "source": [
    "# Lab 04: Uporaba linearnega programiranja v telekomunikacijah\n",
    "> 04: Linear programming in telecommunications\n",
    "\n",
    "Pri operacijskih raziskavah pogosto naletimo na probleme, ki jih lahko rešujemo kot LP probleme. Glavni izziv LP problemov\n",
    " ni proces reševanja temveč formuliranje problema, kriterijske funkcije ter omejitev. "
   ]
  },
  {
   "cell_type": "markdown",
   "metadata": {},
   "source": [
    "## Programska oprema /software LPSolve\n",
    "\n",
    "LP Solve rešuje probleme linearnega programiranja. V program zapišemo kriterijsko funkcjo (kateri določimo min / max), omejitve ter po potrebi še definiramo tip naših spremenljivk (bin / int). Program nato sam izračuna vse možne rešitve in jih prikaže.\n",
    "\n",
    "> LP Solve was introduced during the lectures. The program requires us to correctly formulate the criteria \n",
    "function (min / max), constraints and variable declaration. The program then solves the problem and \n",
    "presents us with the possible solutions. \n",
    "\n",
    "> LPSolve is available for download here:\n",
    "\n",
    "https://sourceforge.net/projects/lpsolve/"
   ]
  },
  {
   "cell_type": "markdown",
   "metadata": {},
   "source": [
    "## Primer 1: Optimalno število naročnikov \n",
    "> Example 1: Optimal number of subscribers\n",
    "\n",
    "Naloga: zapišimo problem v obliki kriterijske funkcije in omejitev, ki jih vstavimo v LPSolve, \n",
    "in ta nam izračuna optimalno rešitev. \n",
    "> Task: Based on the problem description, we derive optimization criteria and constraints, and \n",
    "> solve problem using the LPSolve software.\n",
    "\n",
    "Opis problema 1: <br>\n",
    "\n",
    "Nov mobilni operater se pripravlja za vstop na tržišče. Ker še nima svoje infrastrukture oddajnikov, se je z že \n",
    "obstoječim operaterjem dogovoril za najem njegovega omrežja. Zakupil je mesečno kapaciteto 1000 SMS sporočil, ter 2000 minut pogovora. \n",
    "\n",
    "Svojim naročnikom bo operater ponudil paket za fizične osebe z mesečno naročnino 20€/mesec ter paket za pravne \n",
    "osebe in podjetja z mesečno naročnino 40€/mesec. Predhodne tržne raziskave so pokazale, da \n",
    "fizične osebe v povprečju pošljejo do 40 SMS sporočil in opravijo za 20 minut pogovorov, pravne pa \n",
    "10 SMS sporočil ter 50 minut pogovorov.\n",
    "\n",
    "Koliko katerih uporabnikov mora pridobiti operater, da bo optimalno izkoristil zakupljene  kapacitete in \n",
    "hkrati imel maksimalni zaslužek?\n",
    "\n",
    "> Problem 1 description:\n",
    "\n",
    "> A new mobile service provider is entering the market. Since it does not yet have it’s own infrastructure it  \n",
    ">decided to lease capacities from an existing provider. The provider leased 1000 SMS / month and 2000 minutes / month.\n",
    "> The service provider will offer a package for personal use costing 20€ / month and a business package costing 40€ / month.\n",
    "> Preliminary market research shows that a typical user sends 40 SMS each month and talks for 20 minutes while business \n",
    ">users send 10 SMS and spend 50 minutes.\n",
    ">\n",
    "> Task: Calculate, how many of each type of packages must the provider sell in order to earn maximum profit, \n",
    ">given the available leased capacities.                                    \n",
    "   "
   ]
  },
  {
   "cell_type": "markdown",
   "metadata": {},
   "source": [
    "### Reševanje z LPSolve\n",
    "> How to use LPSolve for solving this problem.\n",
    "\n",
    "Spremenljivki, ki jih moramo določiti, sta naslednji  / We have the following variables:\n",
    "* število naročnikov, fizičnih oseb /Number of subscribers, persons :  n_f\n",
    "* število naročnikov pravnih oseb /Number of subscribers, business users:  n_p. Oboje je celo število (integer).\n",
    "\n",
    "Kriterijska funkcija je maksimizacija zaslužka od prodaje paketov, ki jo dobimo iz cene in prodanih paketov. V LPSolve \n",
    "to zapišemo na naslednji način:\n",
    "\n",
    "> We optimize criterion, which is maximum revenue from selling subscriptions, given that the cost is 20 for persons and 40 for companies. \n",
    "\n",
    "<code>/* Objective function */ <br>\n",
    "max: + 20 n_f + 40 n_p;  </code>\n",
    "\n",
    "Podati moramo še omejitve spremenljivk glede na število zakupljenih enot (1000 SMS, 2000 minut), s pomočjo povprečne porabe \n",
    "enot pri posameznem tipu paketov. To zapišemo z:\n",
    "> We need to define bounds (constraints) according to the number of leased resources (1000 SMS, 2000 minutes)\n",
    "\n",
    "<code> /* Variable bounds */ <br>\n",
    "  40 n_f + 10 n_p <= 1000; \n",
    "  20 n_f + 50 n_p <= 2000; </code>\n",
    "\n",
    "Podamo še, da so iskane spremenljivke celoštevilske: \n",
    "> The variables (numbers of packages) are integers:\n",
    "\n",
    "<code> int n_f, n_p; </code>\n"
   ]
  },
  {
   "cell_type": "markdown",
   "metadata": {},
   "source": [
    "### Naloga 1\n",
    "\n",
    "Vnesi opis problema v LPSolve ter preglej, kakšna je optimalna rešitev. Zapiši rezultate v poročilo. \n"
   ]
  },
  {
   "cell_type": "markdown",
   "metadata": {},
   "source": [
    "### Vizualizacija problema in grafično reševanje / Problem visualization\n",
    "\n",
    "S pomočjo matplotlib knjižnjice bomo izrisali območje dovoljenih rešitev kriterijske funkcije.\n",
    "\n",
    "> Visualization of the problem and finding a graphical solution. By using matplotlib we will produce graph showing the solution \n",
    "> space and variable bounds."
   ]
  },
  {
   "cell_type": "code",
   "execution_count": 1,
   "metadata": {
    "pycharm": {
     "is_executing": false,
     "name": "#%%\n"
    }
   },
   "outputs": [],
   "source": [
    "import numpy as np\n",
    "import matplotlib.pyplot as plt\n",
    "import warnings\n",
    "warnings.filterwarnings('ignore')\n",
    "%matplotlib inline\n",
    "from IPython.display import Image"
   ]
  },
  {
   "cell_type": "code",
   "execution_count": 10,
   "metadata": {
    "pycharm": {
     "is_executing": false,
     "name": "#%%\n"
    }
   },
   "outputs": [
    {
     "data": {
      "image/png": "[encoded data removed]",
      "text/plain": [
       "<Figure size 432x288 with 1 Axes>"
      ]
     },
     "metadata": {
      "needs_background": "light"
     },
     "output_type": "display_data"
    }
   ],
   "source": [
    "n_f = np.linspace(0, 30, 100)\n",
    "\n",
    "# Omejitve\n",
    "n_p1 = (1000 - 40*n_f)/10\n",
    "n_p2 = (2000 - 20*n_f)/50\n",
    "# kriterij\n",
    "npk = (-0.5*n_f + 12.5)\n",
    "\n",
    "# Make plot\n",
    "plt.plot( n_f, n_p1, 'r--', label='sms'  )\n",
    "#plt.plot(n_f, n_p2, 'b--', label='minutes')\n",
    "#plt.plot(n_f, npk, 'g--', label='criterion')\n",
    "\n",
    "#plt.xlim((0, 30))\n",
    "#plt.ylim((0, 50))\n",
    "plt.xlabel('n_f')\n",
    "plt.ylabel('n_p')\n",
    "\n",
    "#plt.fill_between(n_f, n_p1 , where=(n_p2 >= n_p1),color='grey', alpha=0.5)\n",
    "#plt.fill_between(n_f, n_p2 , where=(n_p1 >= n_p2),color='grey', alpha=0.5)\n",
    "#plt.legend(bbox_to_anchor=(1.05, 1), loc=2, borderaxespad=0.)\n",
    "plt.grid()\n",
    "plt.show()\n"
   ]
  },
  {
   "cell_type": "markdown",
   "metadata": {},
   "source": [
    "### Ohlapne spremenljivke / Slack variables\n",
    "Z uporabo ohlapnih spremenljivk spremenimo omejitve problema iz neenačb v enačbe. \n",
    "To sicer pomeni, da uvedemo toliko dodatnih spremenljik, kot imamo omejitev, vendar v \n",
    "zameno zato dobimo pri rešitvi še en dodaten podatek ­ koliko nam še manjka do dejanske meje. \n",
    "V primeru prvega problema tako nazaj dobimo podatek koliko SMS sporočil in minut pogovora ostane \n",
    " ostane neizkoriščenih.\n",
    "\n",
    ">The use of slack variables enables us to redefine constraints from previous examples. While this means introducing \n",
    ">as many new variables as there are constraints, the benefits outweigh the cost. Solving such a problem \n",
    ">provides us with additional data about the solution - how far is the solution from reaching the actual constraint. \n",
    ">Using the first example the mobile service provider can gain information on how much of the leased capacities (sms, minutes) remain free \n",
    ">after reaching the optimal number of subscribers. "
   ]
  },
  {
   "cell_type": "markdown",
   "metadata": {},
   "source": [
    "### Naloga 2: Ohlapne spremenljivke\n",
    "\n",
    "Spremenite definicijo omejitev. Uporabite novi spremenljivki s_sms in s_min in preverite ter komentirajte rešitev.\n",
    "Primer:\n",
    "\n",
    "> Task 1: Define and use slack variables s_sms and s_min to find out about the remaining resouces. Example: \n",
    " \n",
    ">> 40 n_f + 10 n_p + s_sms = 1000; \n",
    " "
   ]
  },
  {
   "cell_type": "markdown",
   "metadata": {},
   "source": [
    "### Naloga 3 / Task 3\n",
    "\n",
    "Zapiši naslednji problem ter najdi optimalno rešitev. Spremenljivke so realne.\n",
    "> By using LPSolve find the solution of the following maximization problem. The variables are real-valued.\n",
    "\n",
    "* Max:  $C(x_1,x_2) = 3*x_1 - 1.5*x_2 + 10$\n",
    "* $2*x_1 + x_2 <= 18$\n",
    "* $-2*x_1 + x_2 <= 5$\n",
    "* $x_1 - x_2 <= 2$\n",
    "* $x_1 >= -1$\n",
    "* $x_2 >= 1$\n",
    "\n",
    "> <b>Bonus (optional):</b> Izriši problem grafično in grafično najdi rešitev. Plot a problem and find graphical solution. <br>\n",
    "> <b>Bonus (optional):</b> Dodaj še ohlapne spremenljivke in reši problem ter komentiraj omejitve. <br>\n",
    "\n"
   ]
  },
  {
   "cell_type": "markdown",
   "metadata": {},
   "source": [
    "## Primer 2: Iskanje najkrajše poti v omrežju (grafu)   \n",
    "> Example 2: Finding shortes path in a network graph"
   ]
  },
  {
   "cell_type": "markdown",
   "metadata": {},
   "source": [
    "Definirajte kriterijsko funkcijo in potrebne omejitve za izračun najkrajše poti od izvora do ponora. V LP Solve preizkusite \n",
    "problem ILP (cela števila oziroma binarna števila) problem.\n",
    "\n",
    "> Finding a shortest path in a graph can also be defined as a LP problem. "
   ]
  },
  {
   "cell_type": "code",
   "execution_count": 3,
   "metadata": {
    "scrolled": true
   },
   "outputs": [],
   "source": [
    "#from IPython.display import Image\n",
    "#Image(\"Omrezje.png\")"
   ]
  },
  {
   "cell_type": "markdown",
   "metadata": {},
   "source": [
    "![Graf](Omrezje2022.png \"Graf omrežja\")"
   ]
  },
  {
   "cell_type": "markdown",
   "metadata": {},
   "source": [
    "<b>Zapis problema / Problem statement:</b>\n",
    "\n",
    "Iščemo najkrajšo pot iz vozlišča A v vozlišče H, kjer števila na povezavah predstavljajo dolžino poti. Vrednost Vsake spremenljivke\n",
    "bo pomenila, ali je povezava med vozliščema vključena v najkrajšo pot ali ne, torej bodo spremenljivke binarne. Definiramo jih torej kot:\n",
    "> We need to find shortest path from node A to node H. We will define binary variables (0,1) whose value defines if the connection is part \n",
    ">of the shortest path.  \n",
    "\n",
    "<code>bin ab, ac .... ;</code> \n",
    "\n",
    "Kriterijska funkcija je minimum vsote dolžin vključenih povezav, zapisati moramo vsoto vseh možnih povezav na način:\n",
    "> Criterion function is a minimum of sum of all included links\n",
    "\n",
    "<code>min: + 42 ab + 7 ac + 18 ad + ......; </code>\n",
    "\n",
    "Omejitve spremenljivk zapišemo za vsako vozlišče. Za vozlišče A velja, da mora iz njega voditi natanko 1 pot, torej:\n",
    "> Constraints need to be defined for each node. For node A, the sum of connections is 1: \n",
    "\n",
    "<code> +ab + ac + ad = 1;</code>\n",
    "\n",
    "Za druga vozlišča pa velja, da zapišemo + in - glede na usmeritve puščic (poti), ter mora biti vsota 0 (po eni povezavi pridemo, po drugi gremo).\n",
    "Pri zadnjem pa je vsota -1. \n",
    "\n",
    "<code> -ab -bc -bf + bh = 0; </code>\n",
    "\n"
   ]
  },
  {
   "cell_type": "markdown",
   "metadata": {},
   "source": [
    "### Naloga 4 / Task 4:\n",
    "* Zapiši formulacijo problema in poišči rešitev. Katera pot (zaporedje vozlišč) je najkrajša?\n",
    "* Ali obstaja še kakšna ekvivalentna pot z enako dolžino ?\n",
    "* Kako bi poiskal najdaljšo pot iz A v vozlišče I?\n",
    "\n",
    "> Tasks:\n",
    "> * Write complete problem formulation in LPSolve IDE, and use LPSolve to find a solution. Describe the resulting shortest path.\n",
    "> * Is there any other alternative solution (check the graph)?\n",
    "> * Try to change a formulation to find a longest path. \n"
   ]
  },
  {
   "cell_type": "markdown",
   "metadata": {},
   "source": [
    "### Naloga 5 / Task 5 (Bonus): \n",
    "Uporabi lastni graf iz predhodne naloge, dodaj uteži povezavam in definiraj LP problem najkrajše poti. Opiši rešitev.\n",
    "\n",
    ">Use the graph that you designed as part of your previous homework. Add costs to each of the edges and \n",
    "create a LP problem to find the shortest path between two selected nodes. \n",
    "\n",
    "> <b>Bonus (optional):</b> visualize graph and shortest path in Jupyter using networkx library. "
   ]
  },
  {
   "cell_type": "markdown",
   "metadata": {},
   "source": []
  }
 ],
 "metadata": {
  "kernelspec": {
   "display_name": "Python 3",
   "language": "python",
   "name": "python3"
  },
  "language_info": {
   "codemirror_mode": {
    "name": "ipython",
    "version": 3
   },
   "file_extension": ".py",
   "mimetype": "text/x-python",
   "name": "python",
   "nbconvert_exporter": "python",
   "pygments_lexer": "ipython3",
   "version": "3.6.9"
  },
  "pycharm": {
   "stem_cell": {
    "cell_type": "raw",
    "metadata": {
     "collapsed": false
    },
    "source": []
   }
  }
 },
 "nbformat": 4,
 "nbformat_minor": 4
}
